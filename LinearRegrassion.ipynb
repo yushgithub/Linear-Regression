{
  "nbformat": 4,
  "nbformat_minor": 0,
  "metadata": {
    "colab": {
      "provenance": []
    },
    "kernelspec": {
      "name": "python3",
      "display_name": "Python 3"
    },
    "language_info": {
      "name": "python"
    }
  },
  "cells": [
    {
      "cell_type": "code",
      "execution_count": null,
      "metadata": {
        "id": "qWA3lCzqO1lG"
      },
      "outputs": [],
      "source": [
        "# Importing Pandas library for data manipulation and analysis\n",
        "import pandas as pd\n",
        "\n",
        "# Importing NumPy library for numerical operations\n",
        "import numpy as np\n",
        "\n",
        "# Importing Seaborn for statistical data visualization\n",
        "import seaborn as sns\n",
        "\n",
        "# Importing Matplotlib's pyplot module for creating plots\n",
        "import matplotlib.pyplot as plt\n",
        "\n",
        "# Importing the CSV module for reading and writing CSV files\n",
        "import csv\n",
        "\n",
        "# Importing train_test_split function for splitting datasets\n",
        "from sklearn.model_selection import train_test_split\n",
        "\n",
        "# Importing StandardScaler for standardizing features\n",
        "from sklearn.preprocessing import StandardScaler\n",
        "\n",
        "# Importing LinearRegression for linear regression\n",
        "from sklearn.linear_model import LinearRegression\n",
        "\n",
        "\n",
        "# Importing evaluation metrics for classification models\n",
        "from sklearn.metrics import mean_squared_error"
      ]
    },
    {
      "cell_type": "code",
      "source": [
        "from google.colab import drive\n",
        "drive.mount('/content/drive')"
      ],
      "metadata": {
        "colab": {
          "base_uri": "https://localhost:8080/"
        },
        "id": "OzDxEU_lRBNu",
        "outputId": "cbbd197a-1bed-4102-d0d2-f0e78b276e84"
      },
      "execution_count": null,
      "outputs": [
        {
          "output_type": "stream",
          "name": "stdout",
          "text": [
            "Drive already mounted at /content/drive; to attempt to forcibly remount, call drive.mount(\"/content/drive\", force_remount=True).\n"
          ]
        }
      ]
    },
    {
      "cell_type": "code",
      "source": [
        "import pandas as pd\n",
        "\n",
        "marks = pd.read_csv('/content/drive/MyDrive/marks.csv')\n",
        "display(marks.describe())"
      ],
      "metadata": {
        "colab": {
          "base_uri": "https://localhost:8080/",
          "height": 300
        },
        "id": "Ucj8hFcIRhyI",
        "outputId": "01becb19-5943-4748-8551-d6221cd25549"
      },
      "execution_count": null,
      "outputs": [
        {
          "output_type": "display_data",
          "data": {
            "text/plain": [
              "              MID       FINAL     OVERALL\n",
              "count  277.000000  277.000000  277.000000\n",
              "mean    13.420578   31.425993   67.122744\n",
              "std      2.905986    7.652610   10.983490\n",
              "min      4.000000    7.000000   36.000000\n",
              "25%     11.500000   26.500000   60.000000\n",
              "50%     13.500000   32.000000   67.000000\n",
              "75%     15.500000   37.000000   75.000000\n",
              "max     19.000000   48.000000   94.000000"
            ],
            "text/html": [
              "\n",
              "  <div id=\"df-60f3b30c-c4f8-48f1-b697-c30cebf83e4c\" class=\"colab-df-container\">\n",
              "    <div>\n",
              "<style scoped>\n",
              "    .dataframe tbody tr th:only-of-type {\n",
              "        vertical-align: middle;\n",
              "    }\n",
              "\n",
              "    .dataframe tbody tr th {\n",
              "        vertical-align: top;\n",
              "    }\n",
              "\n",
              "    .dataframe thead th {\n",
              "        text-align: right;\n",
              "    }\n",
              "</style>\n",
              "<table border=\"1\" class=\"dataframe\">\n",
              "  <thead>\n",
              "    <tr style=\"text-align: right;\">\n",
              "      <th></th>\n",
              "      <th>MID</th>\n",
              "      <th>FINAL</th>\n",
              "      <th>OVERALL</th>\n",
              "    </tr>\n",
              "  </thead>\n",
              "  <tbody>\n",
              "    <tr>\n",
              "      <th>count</th>\n",
              "      <td>277.000000</td>\n",
              "      <td>277.000000</td>\n",
              "      <td>277.000000</td>\n",
              "    </tr>\n",
              "    <tr>\n",
              "      <th>mean</th>\n",
              "      <td>13.420578</td>\n",
              "      <td>31.425993</td>\n",
              "      <td>67.122744</td>\n",
              "    </tr>\n",
              "    <tr>\n",
              "      <th>std</th>\n",
              "      <td>2.905986</td>\n",
              "      <td>7.652610</td>\n",
              "      <td>10.983490</td>\n",
              "    </tr>\n",
              "    <tr>\n",
              "      <th>min</th>\n",
              "      <td>4.000000</td>\n",
              "      <td>7.000000</td>\n",
              "      <td>36.000000</td>\n",
              "    </tr>\n",
              "    <tr>\n",
              "      <th>25%</th>\n",
              "      <td>11.500000</td>\n",
              "      <td>26.500000</td>\n",
              "      <td>60.000000</td>\n",
              "    </tr>\n",
              "    <tr>\n",
              "      <th>50%</th>\n",
              "      <td>13.500000</td>\n",
              "      <td>32.000000</td>\n",
              "      <td>67.000000</td>\n",
              "    </tr>\n",
              "    <tr>\n",
              "      <th>75%</th>\n",
              "      <td>15.500000</td>\n",
              "      <td>37.000000</td>\n",
              "      <td>75.000000</td>\n",
              "    </tr>\n",
              "    <tr>\n",
              "      <th>max</th>\n",
              "      <td>19.000000</td>\n",
              "      <td>48.000000</td>\n",
              "      <td>94.000000</td>\n",
              "    </tr>\n",
              "  </tbody>\n",
              "</table>\n",
              "</div>\n",
              "    <div class=\"colab-df-buttons\">\n",
              "\n",
              "  <div class=\"colab-df-container\">\n",
              "    <button class=\"colab-df-convert\" onclick=\"convertToInteractive('df-60f3b30c-c4f8-48f1-b697-c30cebf83e4c')\"\n",
              "            title=\"Convert this dataframe to an interactive table.\"\n",
              "            style=\"display:none;\">\n",
              "\n",
              "  <svg xmlns=\"http://www.w3.org/2000/svg\" height=\"24px\" viewBox=\"0 -960 960 960\">\n",
              "    <path d=\"M120-120v-720h720v720H120Zm60-500h600v-160H180v160Zm220 220h160v-160H400v160Zm0 220h160v-160H400v160ZM180-400h160v-160H180v160Zm440 0h160v-160H620v160ZM180-180h160v-160H180v160Zm440 0h160v-160H620v160Z\"/>\n",
              "  </svg>\n",
              "    </button>\n",
              "\n",
              "  <style>\n",
              "    .colab-df-container {\n",
              "      display:flex;\n",
              "      gap: 12px;\n",
              "    }\n",
              "\n",
              "    .colab-df-convert {\n",
              "      background-color: #E8F0FE;\n",
              "      border: none;\n",
              "      border-radius: 50%;\n",
              "      cursor: pointer;\n",
              "      display: none;\n",
              "      fill: #1967D2;\n",
              "      height: 32px;\n",
              "      padding: 0 0 0 0;\n",
              "      width: 32px;\n",
              "    }\n",
              "\n",
              "    .colab-df-convert:hover {\n",
              "      background-color: #E2EBFA;\n",
              "      box-shadow: 0px 1px 2px rgba(60, 64, 67, 0.3), 0px 1px 3px 1px rgba(60, 64, 67, 0.15);\n",
              "      fill: #174EA6;\n",
              "    }\n",
              "\n",
              "    .colab-df-buttons div {\n",
              "      margin-bottom: 4px;\n",
              "    }\n",
              "\n",
              "    [theme=dark] .colab-df-convert {\n",
              "      background-color: #3B4455;\n",
              "      fill: #D2E3FC;\n",
              "    }\n",
              "\n",
              "    [theme=dark] .colab-df-convert:hover {\n",
              "      background-color: #434B5C;\n",
              "      box-shadow: 0px 1px 3px 1px rgba(0, 0, 0, 0.15);\n",
              "      filter: drop-shadow(0px 1px 2px rgba(0, 0, 0, 0.3));\n",
              "      fill: #FFFFFF;\n",
              "    }\n",
              "  </style>\n",
              "\n",
              "    <script>\n",
              "      const buttonEl =\n",
              "        document.querySelector('#df-60f3b30c-c4f8-48f1-b697-c30cebf83e4c button.colab-df-convert');\n",
              "      buttonEl.style.display =\n",
              "        google.colab.kernel.accessAllowed ? 'block' : 'none';\n",
              "\n",
              "      async function convertToInteractive(key) {\n",
              "        const element = document.querySelector('#df-60f3b30c-c4f8-48f1-b697-c30cebf83e4c');\n",
              "        const dataTable =\n",
              "          await google.colab.kernel.invokeFunction('convertToInteractive',\n",
              "                                                    [key], {});\n",
              "        if (!dataTable) return;\n",
              "\n",
              "        const docLinkHtml = 'Like what you see? Visit the ' +\n",
              "          '<a target=\"_blank\" href=https://colab.research.google.com/notebooks/data_table.ipynb>data table notebook</a>'\n",
              "          + ' to learn more about interactive tables.';\n",
              "        element.innerHTML = '';\n",
              "        dataTable['output_type'] = 'display_data';\n",
              "        await google.colab.output.renderOutput(dataTable, element);\n",
              "        const docLink = document.createElement('div');\n",
              "        docLink.innerHTML = docLinkHtml;\n",
              "        element.appendChild(docLink);\n",
              "      }\n",
              "    </script>\n",
              "  </div>\n",
              "\n",
              "\n",
              "<div id=\"df-1c761aa0-9230-48c3-b578-5b075e94cd5d\">\n",
              "  <button class=\"colab-df-quickchart\" onclick=\"quickchart('df-1c761aa0-9230-48c3-b578-5b075e94cd5d')\"\n",
              "            title=\"Suggest charts\"\n",
              "            style=\"display:none;\">\n",
              "\n",
              "<svg xmlns=\"http://www.w3.org/2000/svg\" height=\"24px\"viewBox=\"0 0 24 24\"\n",
              "     width=\"24px\">\n",
              "    <g>\n",
              "        <path d=\"M19 3H5c-1.1 0-2 .9-2 2v14c0 1.1.9 2 2 2h14c1.1 0 2-.9 2-2V5c0-1.1-.9-2-2-2zM9 17H7v-7h2v7zm4 0h-2V7h2v10zm4 0h-2v-4h2v4z\"/>\n",
              "    </g>\n",
              "</svg>\n",
              "  </button>\n",
              "\n",
              "<style>\n",
              "  .colab-df-quickchart {\n",
              "      --bg-color: #E8F0FE;\n",
              "      --fill-color: #1967D2;\n",
              "      --hover-bg-color: #E2EBFA;\n",
              "      --hover-fill-color: #174EA6;\n",
              "      --disabled-fill-color: #AAA;\n",
              "      --disabled-bg-color: #DDD;\n",
              "  }\n",
              "\n",
              "  [theme=dark] .colab-df-quickchart {\n",
              "      --bg-color: #3B4455;\n",
              "      --fill-color: #D2E3FC;\n",
              "      --hover-bg-color: #434B5C;\n",
              "      --hover-fill-color: #FFFFFF;\n",
              "      --disabled-bg-color: #3B4455;\n",
              "      --disabled-fill-color: #666;\n",
              "  }\n",
              "\n",
              "  .colab-df-quickchart {\n",
              "    background-color: var(--bg-color);\n",
              "    border: none;\n",
              "    border-radius: 50%;\n",
              "    cursor: pointer;\n",
              "    display: none;\n",
              "    fill: var(--fill-color);\n",
              "    height: 32px;\n",
              "    padding: 0;\n",
              "    width: 32px;\n",
              "  }\n",
              "\n",
              "  .colab-df-quickchart:hover {\n",
              "    background-color: var(--hover-bg-color);\n",
              "    box-shadow: 0 1px 2px rgba(60, 64, 67, 0.3), 0 1px 3px 1px rgba(60, 64, 67, 0.15);\n",
              "    fill: var(--button-hover-fill-color);\n",
              "  }\n",
              "\n",
              "  .colab-df-quickchart-complete:disabled,\n",
              "  .colab-df-quickchart-complete:disabled:hover {\n",
              "    background-color: var(--disabled-bg-color);\n",
              "    fill: var(--disabled-fill-color);\n",
              "    box-shadow: none;\n",
              "  }\n",
              "\n",
              "  .colab-df-spinner {\n",
              "    border: 2px solid var(--fill-color);\n",
              "    border-color: transparent;\n",
              "    border-bottom-color: var(--fill-color);\n",
              "    animation:\n",
              "      spin 1s steps(1) infinite;\n",
              "  }\n",
              "\n",
              "  @keyframes spin {\n",
              "    0% {\n",
              "      border-color: transparent;\n",
              "      border-bottom-color: var(--fill-color);\n",
              "      border-left-color: var(--fill-color);\n",
              "    }\n",
              "    20% {\n",
              "      border-color: transparent;\n",
              "      border-left-color: var(--fill-color);\n",
              "      border-top-color: var(--fill-color);\n",
              "    }\n",
              "    30% {\n",
              "      border-color: transparent;\n",
              "      border-left-color: var(--fill-color);\n",
              "      border-top-color: var(--fill-color);\n",
              "      border-right-color: var(--fill-color);\n",
              "    }\n",
              "    40% {\n",
              "      border-color: transparent;\n",
              "      border-right-color: var(--fill-color);\n",
              "      border-top-color: var(--fill-color);\n",
              "    }\n",
              "    60% {\n",
              "      border-color: transparent;\n",
              "      border-right-color: var(--fill-color);\n",
              "    }\n",
              "    80% {\n",
              "      border-color: transparent;\n",
              "      border-right-color: var(--fill-color);\n",
              "      border-bottom-color: var(--fill-color);\n",
              "    }\n",
              "    90% {\n",
              "      border-color: transparent;\n",
              "      border-bottom-color: var(--fill-color);\n",
              "    }\n",
              "  }\n",
              "</style>\n",
              "\n",
              "  <script>\n",
              "    async function quickchart(key) {\n",
              "      const quickchartButtonEl =\n",
              "        document.querySelector('#' + key + ' button');\n",
              "      quickchartButtonEl.disabled = true;  // To prevent multiple clicks.\n",
              "      quickchartButtonEl.classList.add('colab-df-spinner');\n",
              "      try {\n",
              "        const charts = await google.colab.kernel.invokeFunction(\n",
              "            'suggestCharts', [key], {});\n",
              "      } catch (error) {\n",
              "        console.error('Error during call to suggestCharts:', error);\n",
              "      }\n",
              "      quickchartButtonEl.classList.remove('colab-df-spinner');\n",
              "      quickchartButtonEl.classList.add('colab-df-quickchart-complete');\n",
              "    }\n",
              "    (() => {\n",
              "      let quickchartButtonEl =\n",
              "        document.querySelector('#df-1c761aa0-9230-48c3-b578-5b075e94cd5d button');\n",
              "      quickchartButtonEl.style.display =\n",
              "        google.colab.kernel.accessAllowed ? 'block' : 'none';\n",
              "    })();\n",
              "  </script>\n",
              "</div>\n",
              "    </div>\n",
              "  </div>\n"
            ],
            "application/vnd.google.colaboratory.intrinsic+json": {
              "type": "dataframe",
              "summary": "{\n  \"name\": \"display(marks\",\n  \"rows\": 8,\n  \"fields\": [\n    {\n      \"column\": \"MID\",\n      \"properties\": {\n        \"dtype\": \"number\",\n        \"std\": 94.06202898166877,\n        \"min\": 2.9059862674982666,\n        \"max\": 277.0,\n        \"num_unique_values\": 8,\n        \"samples\": [\n          13.42057761732852,\n          13.5,\n          277.0\n        ],\n        \"semantic_type\": \"\",\n        \"description\": \"\"\n      }\n    },\n    {\n      \"column\": \"FINAL\",\n      \"properties\": {\n        \"dtype\": \"number\",\n        \"std\": 89.45186766666158,\n        \"min\": 7.0,\n        \"max\": 277.0,\n        \"num_unique_values\": 8,\n        \"samples\": [\n          31.425992779783392,\n          32.0,\n          277.0\n        ],\n        \"semantic_type\": \"\",\n        \"description\": \"\"\n      }\n    },\n    {\n      \"column\": \"OVERALL\",\n      \"properties\": {\n        \"dtype\": \"number\",\n        \"std\": 81.22871388983489,\n        \"min\": 10.983490033431904,\n        \"max\": 277.0,\n        \"num_unique_values\": 8,\n        \"samples\": [\n          67.12274368231047,\n          67.0,\n          277.0\n        ],\n        \"semantic_type\": \"\",\n        \"description\": \"\"\n      }\n    }\n  ]\n}"
            }
          },
          "metadata": {}
        }
      ]
    },
    {
      "cell_type": "code",
      "source": [
        "import pandas as pd\n",
        "\n",
        "\n",
        "# Show Data types of each Attribute Here\n",
        "marks = pd.read_csv('/content/drive/MyDrive/marks.csv')\n",
        "print(marks.dtypes)"
      ],
      "metadata": {
        "colab": {
          "base_uri": "https://localhost:8080/"
        },
        "id": "Awjn2YE7mOsF",
        "outputId": "741e8504-d79e-4481-f9a1-888d16e8976e"
      },
      "execution_count": 6,
      "outputs": [
        {
          "output_type": "stream",
          "name": "stdout",
          "text": [
            "MID        float64\n",
            "FINAL      float64\n",
            "OVERALL      int64\n",
            "dtype: object\n"
          ]
        }
      ]
    },
    {
      "cell_type": "code",
      "source": [
        "import pandas as pd\n",
        "\n",
        "marks = pd.read_csv('/content/drive/MyDrive/marks.csv')\n",
        "\n",
        "# Show value count of each Attribute Here\n",
        "for column in marks.columns:\n",
        "    print(marks[column].value_counts())"
      ],
      "metadata": {
        "colab": {
          "base_uri": "https://localhost:8080/"
        },
        "id": "CYGmd23_mjAQ",
        "outputId": "c44a4500-f0a7-4e2b-8156-8a59b518a312"
      },
      "execution_count": 3,
      "outputs": [
        {
          "output_type": "stream",
          "name": "stdout",
          "text": [
            "MID\n",
            "14.0    26\n",
            "13.5    24\n",
            "11.5    19\n",
            "15.0    18\n",
            "16.0    17\n",
            "17.5    17\n",
            "9.5     15\n",
            "12.0    14\n",
            "17.0    13\n",
            "14.5    13\n",
            "12.5    13\n",
            "16.5    12\n",
            "10.5    12\n",
            "11.0    12\n",
            "15.5    10\n",
            "13.0     8\n",
            "10.0     5\n",
            "18.5     5\n",
            "7.5      5\n",
            "18.0     4\n",
            "9.0      3\n",
            "8.5      3\n",
            "6.5      2\n",
            "8.0      2\n",
            "4.0      1\n",
            "6.0      1\n",
            "7.0      1\n",
            "4.5      1\n",
            "19.0     1\n",
            "Name: count, dtype: int64\n",
            "FINAL\n",
            "28.0    13\n",
            "32.0    12\n",
            "29.0     9\n",
            "24.0     9\n",
            "33.0     9\n",
            "        ..\n",
            "47.0     1\n",
            "7.0      1\n",
            "15.5     1\n",
            "15.0     1\n",
            "45.0     1\n",
            "Name: count, Length: 62, dtype: int64\n",
            "OVERALL\n",
            "60    27\n",
            "80    16\n",
            "72    15\n",
            "53    15\n",
            "66    13\n",
            "68    13\n",
            "63    11\n",
            "67    11\n",
            "70    11\n",
            "61    10\n",
            "75     9\n",
            "69     8\n",
            "74     8\n",
            "81     8\n",
            "62     7\n",
            "84     7\n",
            "73     7\n",
            "55     6\n",
            "77     6\n",
            "76     6\n",
            "50     6\n",
            "89     5\n",
            "56     5\n",
            "54     5\n",
            "78     4\n",
            "87     4\n",
            "57     3\n",
            "51     3\n",
            "88     3\n",
            "65     3\n",
            "52     3\n",
            "64     2\n",
            "82     2\n",
            "83     2\n",
            "58     2\n",
            "39     1\n",
            "38     1\n",
            "59     1\n",
            "42     1\n",
            "45     1\n",
            "94     1\n",
            "37     1\n",
            "36     1\n",
            "46     1\n",
            "43     1\n",
            "71     1\n",
            "Name: count, dtype: int64\n"
          ]
        }
      ]
    },
    {
      "cell_type": "code",
      "source": [
        "display(marks.info())"
      ],
      "metadata": {
        "colab": {
          "base_uri": "https://localhost:8080/",
          "height": 208
        },
        "id": "GNcTsJ1RSArZ",
        "outputId": "ffb264b5-8412-4e2e-d43a-db57cb338cba"
      },
      "execution_count": null,
      "outputs": [
        {
          "output_type": "stream",
          "name": "stdout",
          "text": [
            "<class 'pandas.core.frame.DataFrame'>\n",
            "RangeIndex: 277 entries, 0 to 276\n",
            "Data columns (total 3 columns):\n",
            " #   Column   Non-Null Count  Dtype  \n",
            "---  ------   --------------  -----  \n",
            " 0   MID      277 non-null    float64\n",
            " 1   FINAL    277 non-null    float64\n",
            " 2   OVERALL  277 non-null    int64  \n",
            "dtypes: float64(2), int64(1)\n",
            "memory usage: 6.6 KB\n"
          ]
        },
        {
          "output_type": "display_data",
          "data": {
            "text/plain": [
              "None"
            ]
          },
          "metadata": {}
        }
      ]
    },
    {
      "cell_type": "code",
      "source": [
        "print(marks.head())"
      ],
      "metadata": {
        "colab": {
          "base_uri": "https://localhost:8080/"
        },
        "id": "1GuHDKZXm-Y_",
        "outputId": "00b038bb-aec6-4db0-bade-5d280d744c42"
      },
      "execution_count": 4,
      "outputs": [
        {
          "output_type": "stream",
          "name": "stdout",
          "text": [
            "    MID  FINAL  OVERALL\n",
            "0  15.0   28.5       66\n",
            "1   7.0   23.0       50\n",
            "2  13.5   37.5       73\n",
            "3  14.0   27.0       62\n",
            "4  16.0   25.0       60\n"
          ]
        }
      ]
    },
    {
      "cell_type": "code",
      "source": [
        "print(marks.tail())"
      ],
      "metadata": {
        "colab": {
          "base_uri": "https://localhost:8080/"
        },
        "id": "1nPLAVSfnEC1",
        "outputId": "d2159d3f-3757-445c-f037-264e6d47ca71"
      },
      "execution_count": 5,
      "outputs": [
        {
          "output_type": "stream",
          "name": "stdout",
          "text": [
            "      MID  FINAL  OVERALL\n",
            "272  12.5   30.5       61\n",
            "273  17.0   38.0       77\n",
            "274  18.5   43.0       84\n",
            "275  17.5   25.0       61\n",
            "276  18.0   36.5       76\n"
          ]
        }
      ]
    },
    {
      "cell_type": "code",
      "source": [
        "marks.plot.scatter('MID', 'FINAL')"
      ],
      "metadata": {
        "colab": {
          "base_uri": "https://localhost:8080/",
          "height": 466
        },
        "id": "syLKb7gDSLSJ",
        "outputId": "19aa5056-69a5-440e-df2a-b5b0381e1217"
      },
      "execution_count": null,
      "outputs": [
        {
          "output_type": "execute_result",
          "data": {
            "text/plain": [
              "<Axes: xlabel='MID', ylabel='FINAL'>"
            ]
          },
          "metadata": {},
          "execution_count": 65
        },
        {
          "output_type": "display_data",
          "data": {
            "text/plain": [
              "<Figure size 640x480 with 1 Axes>"
            ],
            "image/png": "[encoded data removed]"
          },
          "metadata": {}
        }
      ]
    },
    {
      "cell_type": "code",
      "source": [
        "marks.plot.scatter('MID', 'OVERALL')"
      ],
      "metadata": {
        "colab": {
          "base_uri": "https://localhost:8080/",
          "height": 466
        },
        "id": "of_GLn3jSR7Q",
        "outputId": "9ee94699-bc63-4f74-b465-3f78e755b842"
      },
      "execution_count": null,
      "outputs": [
        {
          "output_type": "execute_result",
          "data": {
            "text/plain": [
              "<Axes: xlabel='MID', ylabel='OVERALL'>"
            ]
          },
          "metadata": {},
          "execution_count": 27
        },
        {
          "output_type": "display_data",
          "data": {
            "text/plain": [
              "<Figure size 640x480 with 1 Axes>"
            ],
            "image/png": "[encoded data removed]"
          },
          "metadata": {}
        }
      ]
    },
    {
      "cell_type": "code",
      "source": [
        "corr = marks.corr()\n",
        "corr.style.background_gradient()"
      ],
      "metadata": {
        "colab": {
          "base_uri": "https://localhost:8080/",
          "height": 143
        },
        "id": "R26p1CdbSe1n",
        "outputId": "b1786113-4ab3-4f76-e69e-63a252fbd028"
      },
      "execution_count": null,
      "outputs": [
        {
          "output_type": "execute_result",
          "data": {
            "text/plain": [
              "<pandas.io.formats.style.Styler at 0x7bcc8a267b80>"
            ],
            "text/html": [
              "<style type=\"text/css\">\n",
              "#T_5dfea_row0_col0, #T_5dfea_row1_col1, #T_5dfea_row2_col2 {\n",
              "  background-color: #023858;\n",
              "  color: #f1f1f1;\n",
              "}\n",
              "#T_5dfea_row0_col1, #T_5dfea_row0_col2, #T_5dfea_row1_col0 {\n",
              "  background-color: #fff7fb;\n",
              "  color: #000000;\n",
              "}\n",
              "#T_5dfea_row1_col2 {\n",
              "  background-color: #0569a4;\n",
              "  color: #f1f1f1;\n",
              "}\n",
              "#T_5dfea_row2_col0 {\n",
              "  background-color: #bcc7e1;\n",
              "  color: #000000;\n",
              "}\n",
              "#T_5dfea_row2_col1 {\n",
              "  background-color: #045e93;\n",
              "  color: #f1f1f1;\n",
              "}\n",
              "</style>\n",
              "<table id=\"T_5dfea\" class=\"dataframe\">\n",
              "  <thead>\n",
              "    <tr>\n",
              "      <th class=\"blank level0\" >&nbsp;</th>\n",
              "      <th id=\"T_5dfea_level0_col0\" class=\"col_heading level0 col0\" >MID</th>\n",
              "      <th id=\"T_5dfea_level0_col1\" class=\"col_heading level0 col1\" >FINAL</th>\n",
              "      <th id=\"T_5dfea_level0_col2\" class=\"col_heading level0 col2\" >OVERALL</th>\n",
              "    </tr>\n",
              "  </thead>\n",
              "  <tbody>\n",
              "    <tr>\n",
              "      <th id=\"T_5dfea_level0_row0\" class=\"row_heading level0 row0\" >MID</th>\n",
              "      <td id=\"T_5dfea_row0_col0\" class=\"data row0 col0\" >1.000000</td>\n",
              "      <td id=\"T_5dfea_row0_col1\" class=\"data row0 col1\" >0.576001</td>\n",
              "      <td id=\"T_5dfea_row0_col2\" class=\"data row0 col2\" >0.707171</td>\n",
              "    </tr>\n",
              "    <tr>\n",
              "      <th id=\"T_5dfea_level0_row1\" class=\"row_heading level0 row1\" >FINAL</th>\n",
              "      <td id=\"T_5dfea_row1_col0\" class=\"data row1 col0\" >0.576001</td>\n",
              "      <td id=\"T_5dfea_row1_col1\" class=\"data row1 col1\" >1.000000</td>\n",
              "      <td id=\"T_5dfea_row1_col2\" class=\"data row1 col2\" >0.938598</td>\n",
              "    </tr>\n",
              "    <tr>\n",
              "      <th id=\"T_5dfea_level0_row2\" class=\"row_heading level0 row2\" >OVERALL</th>\n",
              "      <td id=\"T_5dfea_row2_col0\" class=\"data row2 col0\" >0.707171</td>\n",
              "      <td id=\"T_5dfea_row2_col1\" class=\"data row2 col1\" >0.938598</td>\n",
              "      <td id=\"T_5dfea_row2_col2\" class=\"data row2 col2\" >1.000000</td>\n",
              "    </tr>\n",
              "  </tbody>\n",
              "</table>\n"
            ]
          },
          "metadata": {},
          "execution_count": 28
        }
      ]
    },
    {
      "cell_type": "code",
      "source": [
        "styled_corr = corr.style.background_gradient(cmap='coolwarm')\n",
        "display(styled_corr)"
      ],
      "metadata": {
        "colab": {
          "base_uri": "https://localhost:8080/",
          "height": 143
        },
        "id": "qzp5rICTS4rs",
        "outputId": "1bc6948d-2d20-4952-c46d-c544a843f8f9"
      },
      "execution_count": null,
      "outputs": [
        {
          "output_type": "display_data",
          "data": {
            "text/plain": [
              "<pandas.io.formats.style.Styler at 0x7bcc8a7a51e0>"
            ],
            "text/html": [
              "<style type=\"text/css\">\n",
              "#T_d40e7_row0_col0, #T_d40e7_row1_col1, #T_d40e7_row2_col2 {\n",
              "  background-color: #b40426;\n",
              "  color: #f1f1f1;\n",
              "}\n",
              "#T_d40e7_row0_col1, #T_d40e7_row0_col2, #T_d40e7_row1_col0 {\n",
              "  background-color: #3b4cc0;\n",
              "  color: #f1f1f1;\n",
              "}\n",
              "#T_d40e7_row1_col2 {\n",
              "  background-color: #ef886b;\n",
              "  color: #f1f1f1;\n",
              "}\n",
              "#T_d40e7_row2_col0 {\n",
              "  background-color: #a2c1ff;\n",
              "  color: #000000;\n",
              "}\n",
              "#T_d40e7_row2_col1 {\n",
              "  background-color: #e36b54;\n",
              "  color: #f1f1f1;\n",
              "}\n",
              "</style>\n",
              "<table id=\"T_d40e7\" class=\"dataframe\">\n",
              "  <thead>\n",
              "    <tr>\n",
              "      <th class=\"blank level0\" >&nbsp;</th>\n",
              "      <th id=\"T_d40e7_level0_col0\" class=\"col_heading level0 col0\" >MID</th>\n",
              "      <th id=\"T_d40e7_level0_col1\" class=\"col_heading level0 col1\" >FINAL</th>\n",
              "      <th id=\"T_d40e7_level0_col2\" class=\"col_heading level0 col2\" >OVERALL</th>\n",
              "    </tr>\n",
              "  </thead>\n",
              "  <tbody>\n",
              "    <tr>\n",
              "      <th id=\"T_d40e7_level0_row0\" class=\"row_heading level0 row0\" >MID</th>\n",
              "      <td id=\"T_d40e7_row0_col0\" class=\"data row0 col0\" >1.000000</td>\n",
              "      <td id=\"T_d40e7_row0_col1\" class=\"data row0 col1\" >0.576001</td>\n",
              "      <td id=\"T_d40e7_row0_col2\" class=\"data row0 col2\" >0.707171</td>\n",
              "    </tr>\n",
              "    <tr>\n",
              "      <th id=\"T_d40e7_level0_row1\" class=\"row_heading level0 row1\" >FINAL</th>\n",
              "      <td id=\"T_d40e7_row1_col0\" class=\"data row1 col0\" >0.576001</td>\n",
              "      <td id=\"T_d40e7_row1_col1\" class=\"data row1 col1\" >1.000000</td>\n",
              "      <td id=\"T_d40e7_row1_col2\" class=\"data row1 col2\" >0.938598</td>\n",
              "    </tr>\n",
              "    <tr>\n",
              "      <th id=\"T_d40e7_level0_row2\" class=\"row_heading level0 row2\" >OVERALL</th>\n",
              "      <td id=\"T_d40e7_row2_col0\" class=\"data row2 col0\" >0.707171</td>\n",
              "      <td id=\"T_d40e7_row2_col1\" class=\"data row2 col1\" >0.938598</td>\n",
              "      <td id=\"T_d40e7_row2_col2\" class=\"data row2 col2\" >1.000000</td>\n",
              "    </tr>\n",
              "  </tbody>\n",
              "</table>\n"
            ]
          },
          "metadata": {}
        }
      ]
    },
    {
      "cell_type": "code",
      "source": [
        "X = marks['MID'].values.reshape(\n",
        "    -1, 1)  #reshape is done to ensure the correct sizes.\n",
        "y = marks['FINAL'].values\n",
        "\n",
        "print(X.shape)"
      ],
      "metadata": {
        "colab": {
          "base_uri": "https://localhost:8080/"
        },
        "id": "WT4SyxiaetPU",
        "outputId": "e9ed6c35-9f46-4f3d-b10f-ca65f4775955"
      },
      "execution_count": null,
      "outputs": [
        {
          "output_type": "stream",
          "name": "stdout",
          "text": [
            "(273, 1)\n"
          ]
        }
      ]
    },
    {
      "cell_type": "markdown",
      "source": [
        "Dividing it into training and testing data. 75% training and 25% testing. Using (random) seed as 42"
      ],
      "metadata": {
        "id": "ru5VwAzVE06J"
      }
    },
    {
      "cell_type": "code",
      "source": [
        "from sklearn.model_selection import train_test_split\n",
        "# splitting the data\n",
        "x_train, x_test, y_train, y_test = train_test_split(X,y,test_size=0.25,random_state=42)"
      ],
      "metadata": {
        "id": "BjHYAtybhGIv"
      },
      "execution_count": null,
      "outputs": []
    },
    {
      "cell_type": "code",
      "source": [
        "from sklearn.linear_model import LinearRegression\n",
        "regression_model = LinearRegression()\n",
        "regression_model.fit(x_train, y_train)\n",
        "# Predict\n",
        "y_predicted = regression_model.predict(x_test)"
      ],
      "metadata": {
        "id": "Idj9aR0DhaT4"
      },
      "execution_count": null,
      "outputs": []
    },
    {
      "cell_type": "code",
      "source": [
        "from sklearn.metrics import mean_squared_error\n",
        "from sklearn.metrics import mean_squared_error, r2_score\n",
        "mse = mean_squared_error(y_test, y_predicted)\n",
        "r2 = r2_score(y_test, y_predicted)\n",
        "\n",
        "# printing values\n",
        "print('beta (slope):', regression_model.coef_)\n",
        "print('alpha (intercept):', regression_model.intercept_)\n",
        "print('Mean squared error: ', mse)\n",
        "print('Root mean squared error: ', mse**(1 / 2.0))\n",
        "print('R2 score: ', r2)"
      ],
      "metadata": {
        "colab": {
          "base_uri": "https://localhost:8080/"
        },
        "id": "5jNaqVUbiMoh",
        "outputId": "e40e3298-2d31-4d90-afd1-8affcef7d766"
      },
      "execution_count": null,
      "outputs": [
        {
          "output_type": "stream",
          "name": "stdout",
          "text": [
            "beta (slope): [1.54367815]\n",
            "alpha (intercept): 10.589886374707717\n",
            "Mean squared error:  36.67571014215223\n",
            "Root mean squared error:  6.056047402568133\n",
            "R2 score:  0.30871775549288083\n"
          ]
        }
      ]
    },
    {
      "cell_type": "code",
      "source": [
        "# Plot outputs\n",
        "import matplotlib.pyplot as plt\n",
        "\n",
        "plt.scatter(x_test, y_test, color=\"yellow\")\n",
        "plt.plot(x_test, y_predicted, color=\"red\", linewidth=3)"
      ],
      "metadata": {
        "colab": {
          "base_uri": "https://localhost:8080/",
          "height": 447
        },
        "id": "bWgXYrHAjehU",
        "outputId": "458e1141-04c6-4749-dcf8-22b87bcec1db"
      },
      "execution_count": null,
      "outputs": [
        {
          "output_type": "execute_result",
          "data": {
            "text/plain": [
              "[<matplotlib.lines.Line2D at 0x7bcc80c496f0>]"
            ]
          },
          "metadata": {},
          "execution_count": 80
        },
        {
          "output_type": "display_data",
          "data": {
            "text/plain": [
              "<Figure size 640x480 with 1 Axes>"
            ],
            "image/png": "[encoded data removed]"
          },
          "metadata": {}
        }
      ]
    },
    {
      "cell_type": "code",
      "source": [
        "import numpy as np\n",
        "import seaborn as sns\n",
        "import matplotlib.pyplot as plt\n",
        "\n",
        "# Function to remove outliers\n",
        "def remove_outliers(marks, column):\n",
        "    Q1 = marks[column].quantile(0.25)  # First quartile (25th percentile)\n",
        "    Q3 = marks[column].quantile(0.75)  # Third quartile (75th percentile)\n",
        "    IQR = Q3 - Q1  # Interquartile range\n",
        "    lower_bound = Q1 - 1.5 * IQR  # Lower bound to identify outliers\n",
        "    upper_bound = Q3 + 1.5 * IQR  # Upper bound to identify outliers\n",
        "    return marks[(marks[column] >= lower_bound) & (marks[column] <= upper_bound)]  # Data without outliers\n",
        "\n",
        "# Loop through each numeric column to visualize data before and after removing outliers\n",
        "for column in marks.select_dtypes(include=[np.number]).columns:\n",
        "    plt.figure(figsize=(10, 4))\n",
        "\n",
        "    # Boxplot before removing outliers\n",
        "    plt.subplot(1, 2, 1)\n",
        "    sns.boxplot(marks[column])\n",
        "    plt.title(f'Before Removing Outliers: {column}')\n",
        "\n",
        "    # Remove outliers\n",
        "    marks = remove_outliers(marks, column)\n",
        "\n",
        "    # Boxplot after removing outliers\n",
        "    plt.subplot(1, 2, 2)\n",
        "    sns.boxplot(marks[column])\n",
        "    plt.title(f'After Removing Outliers: {column}')\n",
        "\n",
        "    plt.show()\n"
      ],
      "metadata": {
        "colab": {
          "base_uri": "https://localhost:8080/",
          "height": 727
        },
        "id": "JTP5Ib7wrst6",
        "outputId": "d77e8c36-a79d-4b3c-eace-206d9fb1efa0"
      },
      "execution_count": null,
      "outputs": [
        {
          "output_type": "display_data",
          "data": {
            "text/plain": [
              "<Figure size 1000x400 with 2 Axes>"
            ],
            "image/png": "[encoded data removed]"
          },
          "metadata": {}
        },
        {
          "output_type": "display_data",
          "data": {
            "text/plain": [
              "<Figure size 1000x400 with 2 Axes>"
            ],
            "image/png": "[encoded data removed]"
          },
          "metadata": {}
        }
      ]
    },
    {
      "cell_type": "code",
      "source": [
        "import pandas as pd\n",
        "import seaborn as sns\n",
        "import matplotlib.pyplot as plt\n",
        "\n",
        "# Assuming 'marks' is your DataFrame\n",
        "\n",
        "# Filter out non-float columns\n",
        "float_marks = marks.select_dtypes(include=['float64'])\n",
        "\n",
        "# Compute the correlation matrix\n",
        "corr = float_marks.corr()\n",
        "\n",
        "# Display the heatmap\n",
        "sns.heatmap(corr, annot=True, cmap='coolwarm')\n",
        "plt.show()\n",
        "\n",
        "# Display the first few rows of the DataFrame to help identify column names\n",
        "print(marks.head())\n",
        "\n",
        "# Display the correlation matrix to help identify potential dependent and independent variables\n",
        "print(corr)\n",
        "\n",
        "# Replace 'Total' and 'Final Exam' with actual column names identified from your heatmap\n",
        "independent_variable = 'MID'  # Replace with actual column name\n",
        "dependent_variable = 'FINAL'  # Replace with actual column name\n",
        "\n",
        "# Selecting the independent and dependent variables\n",
        "X = float_marks[[independent_variable]]  # Independent variable(s)\n",
        "y = float_marks[dependent_variable]  # Dependent variable\n",
        "\n",
        "# Combine X and y into a single DataFrame for visualization\n",
        "marks = pd.DataFrame({independent_variable: X[independent_variable], dependent_variable: y})\n",
        "\n",
        "print(marks.head())\n",
        "\n",
        "\n"
      ],
      "metadata": {
        "colab": {
          "base_uri": "https://localhost:8080/",
          "height": 695
        },
        "id": "-3tAX19y2MqB",
        "outputId": "914b4a0f-7624-4d53-d06f-fa66d20596fa"
      },
      "execution_count": null,
      "outputs": [
        {
          "output_type": "display_data",
          "data": {
            "text/plain": [
              "<Figure size 640x480 with 2 Axes>"
            ],
            "image/png": "[encoded data removed]"
          },
          "metadata": {}
        },
        {
          "output_type": "stream",
          "name": "stdout",
          "text": [
            "    MID  FINAL\n",
            "0  15.0   28.5\n",
            "1   7.0   23.0\n",
            "2  13.5   37.5\n",
            "3  14.0   27.0\n",
            "4  16.0   25.0\n",
            "            MID     FINAL\n",
            "MID    1.000000  0.573906\n",
            "FINAL  0.573906  1.000000\n",
            "    MID  FINAL\n",
            "0  15.0   28.5\n",
            "1   7.0   23.0\n",
            "2  13.5   37.5\n",
            "3  14.0   27.0\n",
            "4  16.0   25.0\n"
          ]
        }
      ]
    }
  ]
}